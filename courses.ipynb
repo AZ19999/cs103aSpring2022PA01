{
 "cells": [
  {
   "cell_type": "markdown",
   "metadata": {},
   "source": [
    "# Courses Demo\n",
    "This Jupyter notebook is for exploring the data set courses20-21.json\n",
    "which consists of all Brandeis courses in the 20-21 academic year (Fall20, Spr21, Sum21) \n",
    "which had at least 1 student enrolled.\n",
    "\n",
    "First we need to read the json file into a list of Python dictionaries"
   ]
  },
  {
   "cell_type": "code",
   "execution_count": 1,
   "metadata": {},
   "outputs": [],
   "source": [
    "import json\n",
    "import math"
   ]
  },
  {
   "cell_type": "code",
   "execution_count": 2,
   "metadata": {},
   "outputs": [],
   "source": [
    "with open(\"courses20-21.json\",\"r\",encoding='utf-8') as jsonfile:\n",
    "    courses = json.load(jsonfile)"
   ]
  },
  {
   "cell_type": "markdown",
   "metadata": {},
   "source": [
    "## Structure of a course\n",
    "Next we look at the fields of each course dictionary and their values"
   ]
  },
  {
   "cell_type": "code",
   "execution_count": 3,
   "metadata": {},
   "outputs": [
    {
     "name": "stdout",
     "output_type": "stream",
     "text": [
      "there are 7813 courses in the dataset\n",
      "here is the data for course 1246\n"
     ]
    },
    {
     "data": {
      "text/plain": [
       "{'limit': None,\n",
       " 'times': [],\n",
       " 'enrolled': 0,\n",
       " 'details': '',\n",
       " 'type': 'section',\n",
       " 'status_text': 'Open',\n",
       " 'section': '3',\n",
       " 'waiting': 0,\n",
       " 'instructor': ['Chandler', 'Rosenberger', 'crosen@brandeis.edu'],\n",
       " 'coinstructors': [],\n",
       " 'code': ['SOC', '292A'],\n",
       " 'subject': 'SOC',\n",
       " 'coursenum': '292A',\n",
       " 'name': \"Master's Graduate Internship\",\n",
       " 'independent_study': True,\n",
       " 'term': '1203',\n",
       " 'description': 'Usually offered every year.\\nStaff'}"
      ]
     },
     "execution_count": 3,
     "metadata": {},
     "output_type": "execute_result"
    }
   ],
   "source": [
    "print('there are',len(courses),'courses in the dataset')\n",
    "print('here is the data for course 1246')\n",
    "courses[1051]"
   ]
  },
  {
   "cell_type": "markdown",
   "metadata": {},
   "source": [
    "## Cleaning the data\n",
    "If we want to sort courses by instructor or by code, we need to replace the lists with tuples (which are immutable lists)"
   ]
  },
  {
   "cell_type": "code",
   "execution_count": 4,
   "metadata": {},
   "outputs": [],
   "source": [
    "for course in courses:\n",
    "        course['instructor'] = tuple(course['instructor'])\n",
    "        course['coinstructors'] = tuple([tuple(f) for f in course['coinstructors']])\n",
    "        course['code']= tuple(course['code'])"
   ]
  },
  {
   "cell_type": "code",
   "execution_count": 5,
   "metadata": {},
   "outputs": [
    {
     "name": "stdout",
     "output_type": "stream",
     "text": [
      "notice that the instructor and code are tuples now\n"
     ]
    },
    {
     "data": {
      "text/plain": [
       "{'limit': 28,\n",
       " 'times': [{'start': 1080, 'end': 1170, 'days': ['w', 'm']}],\n",
       " 'enrolled': 4,\n",
       " 'details': 'Instruction for this course will be offered remotely. Meeting times for this course are listed in the schedule of classes (in ET).',\n",
       " 'type': 'section',\n",
       " 'status_text': 'Open',\n",
       " 'section': '1',\n",
       " 'waiting': 0,\n",
       " 'instructor': ('An', 'Huang', 'anhuang@brandeis.edu'),\n",
       " 'coinstructors': (),\n",
       " 'code': ('MATH', '223A'),\n",
       " 'subject': 'MATH',\n",
       " 'coursenum': '223A',\n",
       " 'name': 'Lie Algebras: Representation Theory',\n",
       " 'independent_study': False,\n",
       " 'term': '1203',\n",
       " 'description': \"Theorems of Engel and Lie. Semisimple Lie algebras, Cartan's criterion. Universal enveloping algebras, PBW theorem, Serre's construction. Representation theory. Other topics as time permits. Usually offered every second year.\\nAn Huang\"}"
      ]
     },
     "execution_count": 5,
     "metadata": {},
     "output_type": "execute_result"
    }
   ],
   "source": [
    "print('notice that the instructor and code are tuples now')\n",
    "courses[1246]"
   ]
  },
  {
   "cell_type": "markdown",
   "metadata": {},
   "source": [
    "# Exploring the data set\n",
    "Now we will show how to use straight python to explore the data set and answer some interesting questions. Next week we will start learning Pandas/Numpy which are packages that make it easier to explore large dataset efficiently.\n",
    "\n",
    "Here are some questions we can try to asnwer:\n",
    "* what are all of the subjects of courses (e.g. COSI, MATH, JAPN, PHIL, ...)\n",
    "* which terms are represented?\n",
    "* how many instructors taught at Brandeis last year?\n",
    "* what were the five largest course sections?\n",
    "* what were the five largest courses (where we combine sections)?\n",
    "* which are the five largest subjects measured by number of courses offered?\n",
    "* which are the five largest courses measured by number of students taught?\n",
    "* which course had the most sections taught in 20-21?\n",
    "* who are the top five faculty in terms of number of students taught?\n",
    "* etc."
   ]
  },
  {
   "cell_type": "code",
   "execution_count": 6,
   "metadata": {},
   "outputs": [],
   "source": [
    "#Markdown Cell Placeholder"
   ]
  },
  {
   "cell_type": "code",
   "execution_count": 7,
   "metadata": {},
   "outputs": [
    {
     "data": {
      "text/plain": [
       "27"
      ]
     },
     "execution_count": 7,
     "metadata": {},
     "output_type": "execute_result"
    }
   ],
   "source": [
    "#instructors who taught COSI, problem a\n",
    "len({c['instructor']  for c in courses if c['subject'] == 'COSI'})"
   ]
  },
  {
   "cell_type": "code",
   "execution_count": 8,
   "metadata": {},
   "outputs": [
    {
     "name": "stdout",
     "output_type": "stream",
     "text": [
      "2223\n"
     ]
    }
   ],
   "source": [
    "# how many cosi students total, problem b\n",
    "totalStudents = 0\n",
    "for course in courses:\n",
    "    if course['subject'] == \"COSI\":\n",
    "        totalStudents+=course['enrolled']\n",
    "print(totalStudents)"
   ]
  },
  {
   "cell_type": "code",
   "execution_count": 9,
   "metadata": {},
   "outputs": [],
   "source": [
    "#Markdown Cell Placeholder"
   ]
  },
  {
   "cell_type": "code",
   "execution_count": 10,
   "metadata": {},
   "outputs": [
    {
     "name": "stdout",
     "output_type": "stream",
     "text": [
      "[('HS', 5318), ('BIOL', 3085), ('BUS', 2766), ('HWL', 2734), ('CHEM', 2322), ('ECON', 2315), ('COSI', 2223), ('MATH', 1785), ('PSYC', 1704), ('ANTH', 1144)]\n"
     ]
    }
   ],
   "source": [
    "#top 10 subjects in terms of students enrolled, problem d\n",
    "enrolledDict = {}\n",
    "for course in courses:\n",
    "        if course['subject'] not in enrolledDict:\n",
    "                enrolledDict[course['subject']] = course['enrolled']\n",
    "        else:\n",
    "                enrolledDict[course['subject']] += course['enrolled']\n",
    "sortedEnrolledDict = sorted(enrolledDict.items(), key = lambda kv:(kv[1], kv[0]), reverse=True)\n",
    "print(sortedEnrolledDict[0:10])"
   ]
  },
  {
   "cell_type": "code",
   "execution_count": 11,
   "metadata": {},
   "outputs": [
    {
     "name": "stdout",
     "output_type": "stream",
     "text": [
      "[('BIOL', 613), ('HIST', 498), ('PSYC', 417), ('NEUR', 403), ('BCHM', 296), ('PHYS', 288), ('HS', 274), ('COSI', 272), ('MUS', 266), ('ENG', 265)]\n"
     ]
    }
   ],
   "source": [
    "# Problem e\n",
    "# This assumes that different sections of the same course numbers count as classes\n",
    "enrolledDict = {}\n",
    "for course in courses:\n",
    "        if course['subject'] not in enrolledDict:\n",
    "                enrolledDict[course['subject']] = 1\n",
    "        else:\n",
    "                enrolledDict[course['subject']] += 1\n",
    "\n",
    "sortedEnrolledDict = sorted(enrolledDict.items(), key = lambda kv:(kv[1], kv[0]), reverse=True)\n",
    "print(sortedEnrolledDict[0:10])"
   ]
  },
  {
   "cell_type": "code",
   "execution_count": 12,
   "metadata": {},
   "outputs": [
    {
     "name": "stdout",
     "output_type": "stream",
     "text": [
      "[('Leah Berkenwald', 926), ('Kene Nathan Piasta', 583), ('Stephanie Murray', 515), ('Milos Dolnik', 489), ('Maria de Boef Miara', 450), ('Bryan Ingoglia', 439), ('Rachel V.E. Woodruff', 422), ('Timothy J Hickey', 411), ('Daniel Breen', 375), ('Melissa Kosinski-Collins', 365)]\n"
     ]
    }
   ],
   "source": [
    "#top 20 professors by students, problem g\n",
    "enrolledDict = {}\n",
    "for course in courses:\n",
    "        if ' '.join(course['instructor'][:2]) not in enrolledDict:\n",
    "                enrolledDict[' '.join(course['instructor'][:2])] = course['enrolled']\n",
    "        else:\n",
    "                enrolledDict[' '.join(course['instructor'][:2])] += course['enrolled']\n",
    "sortedEnrolledDict = sorted(enrolledDict.items(), key = lambda kv:(kv[1], kv[0]), reverse=True)\n",
    "print(sortedEnrolledDict[0:10])"
   ]
  },
  {
   "cell_type": "code",
   "execution_count": 19,
   "metadata": {},
   "outputs": [
    {
     "name": "stdout",
     "output_type": "stream",
     "text": [
      "[('HWL 1', 940), ('HWL 1-PRE', 879), ('BIOL 14A', 358), ('COSI 10A', 343), ('PSYC 10A', 336), ('BIOL 15B', 287), ('MATH 10A', 280), ('BIOL 18B', 274), ('BIOL 18A', 262), ('CHEM 29A', 245), ('CHEM 29B', 239), ('CHEM 25A', 236), ('PSYC 51A', 231), ('CHEM 25B', 226), ('COSI 12B', 225), ('BUS 6A', 215), ('CHEM 18A', 208), ('ECON 10A', 207), ('MATH 15A', 204), ('COSI 21A', 201)]\n"
     ]
    }
   ],
   "source": [
    "#Median size of Cosi course\n",
    "total={i['enrolled'] for i in courses if i['enrolled']>9 and i['subject'] =='COSI'}\n",
    "convert=list(total)\n",
    "if len(convert)%2==1:\n",
    "    convert[math.floor(len(convert)/2)]\n",
    "else:\n",
    "    print((convert[math.floor(len(convert)/2)]+convert[math.floor(len(convert)/2+1)])/2)\n"
   ]
  },
  {
   "cell_type": "code",
   "execution_count": null,
   "metadata": {},
   "outputs": [],
   "source": [
    "# Problem h\n",
    "enrolledDict = {}\n",
    "for course in courses:\n",
    "        course_subject_plus_num = course['subject'] +\" \"+course['coursenum'] \n",
    "        if course_subject_plus_num not in enrolledDict:\n",
    "                enrolledDict[course_subject_plus_num] = course['enrolled']\n",
    "        else:\n",
    "                enrolledDict[course_subject_plus_num] += course['enrolled']\n",
    "sortedEnrolledDict = sorted(enrolledDict.items(), key = lambda kv:(kv[1], kv[0]), reverse=True)\n",
    "print(sortedEnrolledDict[0:20])"
   ]
  },
  {
   "cell_type": "code",
   "execution_count": null,
   "metadata": {},
   "outputs": [],
   "source": [
    "# number of in person and remote classes in term 1203 with over 14 people. Note courses with both doublecount\n",
    "inperson={i['subject'] for i in courses if i['details'].find('in person')==-1 and i['enrolled']>14 and i['term']=='1203'}\n",
    "print(len(inperson))\n",
    "inperson={i['subject'] for i in courses if i['details'].find('remot')==-1 and i['enrolled']>14 and i['term']==str(1203)}\n",
    "print(len(inperson))\n"
   ]
  },
  {
   "cell_type": "code",
   "execution_count": null,
   "metadata": {},
   "outputs": [],
   "source": [
    "#Question F counts number of proffesors in each subject\n",
    "enrolledDict = {}\n",
    "instructorDict = {}\n",
    "for course in courses:\n",
    "        if course['subject'] not in enrolledDict:\n",
    "                enrolledDict[course['subject']] = course['instructor']\n",
    "                instructorDict[course['subject']] = 1\n",
    "        elif instructorDict['instructor'] not in instructorDict:\n",
    "                instructorDict[course['subject']] +=1\n",
    "\n",
    "sortedEnrolledDict = sorted(enrolledDict.items(), key = lambda kv:(kv[1], kv[0]), reverse=True)\n",
    "print(sortedEnrolledDict[:10])"
   ]
  },
  {
   "cell_type": "code",
   "execution_count": 18,
   "metadata": {},
   "outputs": [
    {
     "data": {
      "text/plain": [
       "5"
      ]
     },
     "execution_count": 18,
     "metadata": {},
     "output_type": "execute_result"
    }
   ],
   "source": [
    "# how many history professors have their first name start with a D? problem i part 1\n",
    "\n",
    "len({c['instructor'] for c in courses if c['subject'] == 'HIST' and c['instructor'][0][0] == 'D'})"
   ]
  },
  {
   "cell_type": "code",
   "execution_count": 17,
   "metadata": {},
   "outputs": [
    {
     "data": {
      "text/plain": [
       "57"
      ]
     },
     "execution_count": 17,
     "metadata": {},
     "output_type": "execute_result"
    }
   ],
   "source": [
    "#how many professors teach a subject that starts with the same letter as their first name 1i for Vibhu\n",
    "len({c['instructor'] for c in courses if c['subject'][0][0] == c['instructor'][0][0]})"
   ]
  },
  {
   "cell_type": "code",
   "execution_count": 15,
   "metadata": {},
   "outputs": [
    {
     "ename": "IndexError",
     "evalue": "list index out of range",
     "output_type": "error",
     "traceback": [
      "\u001b[0;31m---------------------------------------------------------------------------\u001b[0m",
      "\u001b[0;31mIndexError\u001b[0m                                Traceback (most recent call last)",
      "\u001b[0;32m/var/folders/6l/ghp_ny99719352x5_j5nnrxh0000gn/T/ipykernel_21510/955451776.py\u001b[0m in \u001b[0;36m<module>\u001b[0;34m\u001b[0m\n\u001b[1;32m      4\u001b[0m     \u001b[0mconvert\u001b[0m\u001b[0;34m[\u001b[0m\u001b[0mmath\u001b[0m\u001b[0;34m.\u001b[0m\u001b[0mfloor\u001b[0m\u001b[0;34m(\u001b[0m\u001b[0mlen\u001b[0m\u001b[0;34m(\u001b[0m\u001b[0mconvert\u001b[0m\u001b[0;34m)\u001b[0m\u001b[0;34m/\u001b[0m\u001b[0;36m2\u001b[0m\u001b[0;34m)\u001b[0m\u001b[0;34m]\u001b[0m\u001b[0;34m\u001b[0m\u001b[0;34m\u001b[0m\u001b[0m\n\u001b[1;32m      5\u001b[0m \u001b[0;32melse\u001b[0m\u001b[0;34m:\u001b[0m\u001b[0;34m\u001b[0m\u001b[0;34m\u001b[0m\u001b[0m\n\u001b[0;32m----> 6\u001b[0;31m     \u001b[0;34m(\u001b[0m\u001b[0mconvert\u001b[0m\u001b[0;34m[\u001b[0m\u001b[0mmath\u001b[0m\u001b[0;34m.\u001b[0m\u001b[0mfloor\u001b[0m\u001b[0;34m(\u001b[0m\u001b[0mlen\u001b[0m\u001b[0;34m(\u001b[0m\u001b[0mconvert\u001b[0m\u001b[0;34m)\u001b[0m\u001b[0;34m/\u001b[0m\u001b[0;36m2\u001b[0m\u001b[0;34m)\u001b[0m\u001b[0;34m]\u001b[0m\u001b[0;34m+\u001b[0m\u001b[0mconvert\u001b[0m\u001b[0;34m[\u001b[0m\u001b[0mmath\u001b[0m\u001b[0;34m.\u001b[0m\u001b[0mfloor\u001b[0m\u001b[0;34m(\u001b[0m\u001b[0mlen\u001b[0m\u001b[0;34m(\u001b[0m\u001b[0mconvert\u001b[0m\u001b[0;34m)\u001b[0m\u001b[0;34m/\u001b[0m\u001b[0;36m2\u001b[0m\u001b[0;34m+\u001b[0m\u001b[0;36m1\u001b[0m\u001b[0;34m)\u001b[0m\u001b[0;34m]\u001b[0m\u001b[0;34m)\u001b[0m\u001b[0;34m/\u001b[0m\u001b[0;36m2\u001b[0m\u001b[0;34m\u001b[0m\u001b[0;34m\u001b[0m\u001b[0m\n\u001b[0m\u001b[1;32m      7\u001b[0m     \u001b[0mconvert\u001b[0m\u001b[0;34m[\u001b[0m\u001b[0;36m0\u001b[0m\u001b[0;34m]\u001b[0m\u001b[0;34m\u001b[0m\u001b[0;34m\u001b[0m\u001b[0m\n",
      "\u001b[0;31mIndexError\u001b[0m: list index out of range"
     ]
    }
   ],
   "source": [
    "total={i['enrolled'] for i in courses if course['enrolled']>9 and course['subject'] ==\"COSI\"}\n",
    "convert=list(total)\n",
    "if len(convert)%2==1:\n",
    "    convert[math.floor(len(convert)/2)]\n",
    "else:\n",
    "    (convert[math.floor(len(convert)/2)]+convert[math.floor(len(convert)/2+1)])/2\n",
    "    convert[0]"
   ]
  }
 ],
 "metadata": {
  "kernelspec": {
   "display_name": "Python 3 (ipykernel)",
   "language": "python",
   "name": "python3"
  },
  "language_info": {
   "codemirror_mode": {
    "name": "ipython",
    "version": 3
   },
   "file_extension": ".py",
   "mimetype": "text/x-python",
   "name": "python",
   "nbconvert_exporter": "python",
   "pygments_lexer": "ipython3",
   "version": "3.9.1"
  }
 },
 "nbformat": 4,
 "nbformat_minor": 4
}
